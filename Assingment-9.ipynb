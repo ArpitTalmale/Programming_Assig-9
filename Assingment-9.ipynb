{
 "cells": [
  {
   "cell_type": "markdown",
   "id": "0c919a75",
   "metadata": {},
   "source": [
    "### Que:-1 Write a Python program to check if the given number is a Disarium Number?"
   ]
  },
  {
   "cell_type": "code",
   "execution_count": 17,
   "id": "c2718da2",
   "metadata": {},
   "outputs": [
    {
     "name": "stdout",
     "output_type": "stream",
     "text": [
      "Enter the number:-135\n",
      "The 135 is disarium number\n"
     ]
    }
   ],
   "source": [
    "#solution:-\n",
    "\n",
    "def number(a):\n",
    "    sum = 0\n",
    "    for i in range(len(a)):\n",
    "        sum = sum + int(a[i])**(i+1)\n",
    "    if sum == int(a):\n",
    "        print(f\"The {a} is disarium number\")\n",
    "    else:\n",
    "        print(f\"The {a} is not disarium number\")\n",
    "a = input(\"Enter the number:-\")\n",
    "number(a)"
   ]
  },
  {
   "cell_type": "markdown",
   "id": "2690b44d",
   "metadata": {},
   "source": [
    "### Que:-2 Write a Python Program to print all Disarium numbers between 1 to 100 ?"
   ]
  },
  {
   "cell_type": "code",
   "execution_count": 9,
   "id": "68b654e0",
   "metadata": {},
   "outputs": [
    {
     "data": {
      "text/plain": [
       "[1, 2, 3, 4, 5, 6, 7, 8, 9, 89]"
      ]
     },
     "execution_count": 9,
     "metadata": {},
     "output_type": "execute_result"
    }
   ],
   "source": [
    "#solution:-\n",
    "\n",
    "def printDisariumNumbers(start=1,end=100):\n",
    "    output_num = []\n",
    "    for number in range(start,end+1):\n",
    "        sum = 0\n",
    "        for item in range(len(str(number))):\n",
    "            sum = sum + int(str(number)[item])**(item+1)\n",
    "        if sum == number:\n",
    "            output_num.append(number)\n",
    "    return output_num\n",
    "            \n",
    "        \n",
    "printDisariumNumbers(1,100)"
   ]
  },
  {
   "cell_type": "markdown",
   "id": "66e4db46",
   "metadata": {},
   "source": [
    "### Que:-3 Write a Python Program to check if the given number is Happy Number ?"
   ]
  },
  {
   "cell_type": "code",
   "execution_count": 11,
   "id": "a7ad57ba",
   "metadata": {},
   "outputs": [
    {
     "name": "stdout",
     "output_type": "stream",
     "text": [
      "Enter the number :19\n",
      "19 Is a Happy Number\n"
     ]
    }
   ],
   "source": [
    "#solution:-\n",
    "\n",
    "\n",
    "    \n",
    "def Happy(num):\n",
    "    sum = 0\n",
    "    while(num>0):\n",
    "        dig = num%10\n",
    "        sum= sum + dig**2        \n",
    "        num = num//10\n",
    "    return sum\n",
    "\n",
    "num = int(input(\"Enter the number :\"))\n",
    "result = num\n",
    "\n",
    "\n",
    "while (result != 1 and result != 4):\n",
    "    result = Happy(result)\n",
    "\n",
    "if result == 1:\n",
    "    print(num,\"Is a Happy Number\")\n",
    "else:\n",
    "    print(num,\" Is a Unhappy Number\")"
   ]
  },
  {
   "cell_type": "markdown",
   "id": "a918aa28",
   "metadata": {},
   "source": [
    "### Que:-4 Write a Python Program to print all Happy numbers between 1 and 100 ?"
   ]
  },
  {
   "cell_type": "code",
   "execution_count": 12,
   "id": "43507d66",
   "metadata": {},
   "outputs": [
    {
     "name": "stdout",
     "output_type": "stream",
     "text": [
      "Happy numbers in range 1 to 100\n",
      "[1, 7, 10, 13, 19, 23, 28, 31, 32, 44, 49, 68, 70, 79, 82, 86, 91, 94, 97, 100]\n"
     ]
    }
   ],
   "source": [
    "#solution:-\n",
    "\n",
    "def Happy(num):\n",
    "    sum = 0\n",
    "    while(num>0):\n",
    "        dig = num%10\n",
    "        sum= sum + dig**2        \n",
    "        num = num//10\n",
    "    return sum\n",
    "\n",
    "print(\"Happy numbers in range 1 to 100\")\n",
    "result=num=i=0\n",
    "happyNo = []\n",
    "for i in range(1,101):\n",
    "    result = i\n",
    "    while (result != 1 and result != 4):\n",
    "        result = Happy(result)    \n",
    "    if result == 1:\n",
    "        happyNo.append(i)\n",
    "print(happyNo)"
   ]
  },
  {
   "cell_type": "markdown",
   "id": "e1d2f255",
   "metadata": {},
   "source": [
    "### Que:-5 Write a Python Program to determine whether the given number is a Harshad Number ?"
   ]
  },
  {
   "cell_type": "code",
   "execution_count": 27,
   "id": "b77f7a22",
   "metadata": {},
   "outputs": [
    {
     "name": "stdout",
     "output_type": "stream",
     "text": [
      "Enter the number:-155\n",
      "The sum 155 is 11\n",
      "The 155 is not harshad number\n"
     ]
    }
   ],
   "source": [
    "#solution:-\n",
    "\n",
    "def number(a):\n",
    "\n",
    "    sum = 0\n",
    "    for i in a:\n",
    "        sum = sum + int(i)\n",
    "    print(f\"The sum {a} is {sum}\")\n",
    "    if int(a)%(sum) == 0:\n",
    "        print(f\"The {a} is harshad number\")\n",
    "    else:\n",
    "        print(f\"The {a} is not harshad number\")\n",
    "a = input(\"Enter the number:-\")\n",
    "number(a)"
   ]
  },
  {
   "cell_type": "markdown",
   "id": "30dcbb39",
   "metadata": {},
   "source": [
    "### Que:-6 Write a Python Program to print all pronic numbers between 1 and 100 ? "
   ]
  },
  {
   "cell_type": "code",
   "execution_count": 31,
   "id": "b3b0e145",
   "metadata": {},
   "outputs": [
    {
     "name": "stdout",
     "output_type": "stream",
     "text": [
      "[0, 2, 6, 12, 20, 30, 42, 56, 72, 90, 110, 132, 156, 182, 210, 240, 272, 306, 342, 380, 420, 462, 506, 552, 600, 650, 702, 756, 812, 870, 930, 992, 1056, 1122, 1190, 1260, 1332, 1406, 1482, 1560, 1640, 1722, 1806, 1892, 1980, 2070, 2162, 2256, 2352, 2450, 2550, 2652, 2756, 2862, 2970, 3080, 3192, 3306, 3422, 3540, 3660, 3782, 3906, 4032, 4160, 4290, 4422, 4556, 4692, 4830, 4970, 5112, 5256, 5402, 5550, 5700, 5852, 6006, 6162, 6320, 6480, 6642, 6806, 6972, 7140, 7310, 7482, 7656, 7832, 8010, 8190, 8372, 8556, 8742, 8930, 9120, 9312, 9506, 9702, 9900, 10100]\n"
     ]
    }
   ],
   "source": [
    "#solution:-\n",
    "\n",
    "\n",
    "def num(a=0,b=100):\n",
    "    \n",
    "    output = []\n",
    "    for n in range(a,b+1):\n",
    "        output.append((n)*(n+1))\n",
    "    print(output)\n",
    "num()    "
   ]
  }
 ],
 "metadata": {
  "kernelspec": {
   "display_name": "Python 3",
   "language": "python",
   "name": "python3"
  },
  "language_info": {
   "codemirror_mode": {
    "name": "ipython",
    "version": 3
   },
   "file_extension": ".py",
   "mimetype": "text/x-python",
   "name": "python",
   "nbconvert_exporter": "python",
   "pygments_lexer": "ipython3",
   "version": "3.8.8"
  }
 },
 "nbformat": 4,
 "nbformat_minor": 5
}
